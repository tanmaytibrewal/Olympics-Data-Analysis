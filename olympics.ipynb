{
  "nbformat": 4,
  "nbformat_minor": 0,
  "metadata": {
    "colab": {
      "name": "olympics.ipynb",
      "provenance": [],
      "collapsed_sections": []
    },
    "kernelspec": {
      "name": "python3",
      "display_name": "Python 3"
    },
    "language_info": {
      "name": "python"
    }
  },
  "cells": [
    {
      "cell_type": "code",
      "metadata": {
        "id": "H0bdYimscxxn"
      },
      "source": [
        "import pandas as pd\n",
        "import numpy as np\n",
        "import matplotlib.pyplot as plt\n"
      ],
      "execution_count": 10,
      "outputs": []
    },
    {
      "cell_type": "markdown",
      "metadata": {
        "id": "VsrZvZuog8RS"
      },
      "source": [
        "##1. In how many cities Summer Olympics is held so far?"
      ]
    },
    {
      "cell_type": "code",
      "metadata": {
        "colab": {
          "base_uri": "https://localhost:8080/"
        },
        "id": "TM-DPiTbc2Z8",
        "outputId": "9104170a-434a-4431-eb97-ea21a5e83fd9"
      },
      "source": [
        "len(df['Country'].unique())"
      ],
      "execution_count": 15,
      "outputs": [
        {
          "output_type": "execute_result",
          "data": {
            "text/plain": [
              "148"
            ]
          },
          "metadata": {},
          "execution_count": 15
        }
      ]
    },
    {
      "cell_type": "markdown",
      "metadata": {
        "id": "9VrlzTlzhEh-"
      },
      "source": [
        "##2. Which sport is having most number of Gold Medals so far? (Top 5)"
      ]
    },
    {
      "cell_type": "code",
      "metadata": {
        "colab": {
          "base_uri": "https://localhost:8080/",
          "height": 351
        },
        "id": "bSIIpo65b77E",
        "outputId": "2d71ba10-35b0-4e00-b5dc-323e8cfeb334"
      },
      "source": [
        "##what is wrong in this code please help me \n",
        "\n",
        "\n",
        "lst=[]\n",
        "for sport in df['Sport'].unique():\n",
        "  gold=0\n",
        "  \n",
        "\n",
        "  for i in range(len(data)):\n",
        "    if(data[i][8]=='Medal'):\n",
        "      if('Medal'=='Gold'):\n",
        "        gold=gold+data[i][8]\n",
        "  lst.append([sport,gold])\n",
        "\n",
        "  \n",
        "pd.DataFrame(lst,columns=['Sport','Medal']).sort_values(by='Medal',ascending=False).plot(x='Sport',y='Medal',kind='line',figsize=(10,5))"
      ],
      "execution_count": 111,
      "outputs": [
        {
          "output_type": "execute_result",
          "data": {
            "text/plain": [
              "<matplotlib.axes._subplots.AxesSubplot at 0x7f29b2a29b50>"
            ]
          },
          "metadata": {},
          "execution_count": 111
        },
        {
          "output_type": "display_data",
          "data": {
            "image/png": "[encoded data removed]",
            "text/plain": [
              "<Figure size 720x360 with 1 Axes>"
            ]
          },
          "metadata": {
            "needs_background": "light"
          }
        }
      ]
    },
    {
      "cell_type": "markdown",
      "metadata": {
        "id": "QoC4SJoJ64Kt"
      },
      "source": [
        "#3. Which sport is having most number of medals so far? (Top 5)\n"
      ]
    },
    {
      "cell_type": "code",
      "metadata": {
        "colab": {
          "base_uri": "https://localhost:8080/",
          "height": 399
        },
        "id": "eC_R0g9uc2pP",
        "outputId": "6b3b0541-0879-4ca9-98f0-d5a0d4ded1d4"
      },
      "source": [
        "data=[]\n",
        "for Sport in df['Sport'].unique():\n",
        "  data.append([Sport,len(df[df['Sport']==Sport])])\n",
        "data=pd.DataFrame(data,columns=['Sport','Total Medal'])\n",
        "data=data.sort_values(by='Total Medal',ascending=False).head()\n",
        "\n",
        "data.plot(x='Sport',y='Total Medal',kind='bar',figsize=(10,5))"
      ],
      "execution_count": 16,
      "outputs": [
        {
          "output_type": "execute_result",
          "data": {
            "text/plain": [
              "<matplotlib.axes._subplots.AxesSubplot at 0x7f29bacec690>"
            ]
          },
          "metadata": {},
          "execution_count": 16
        },
        {
          "output_type": "display_data",
          "data": {
            "image/png": "[encoded data removed]",
            "text/plain": [
              "<Figure size 720x360 with 1 Axes>"
            ]
          },
          "metadata": {
            "needs_background": "light"
          }
        }
      ]
    },
    {
      "cell_type": "markdown",
      "metadata": {
        "id": "zv2nXCPEKGHT"
      },
      "source": [
        "#4. Which player has won most number of medals? (Top 5)"
      ]
    },
    {
      "cell_type": "code",
      "metadata": {
        "colab": {
          "base_uri": "https://localhost:8080/",
          "height": 458
        },
        "id": "iFzFNJmDc2xL",
        "outputId": "5ea262ad-835c-4ee8-dad9-abfe4705141d"
      },
      "source": [
        "data=[]\n",
        "for Athlete in df['Athlete'].unique():\n",
        "  data.append([Athlete,len(df[df['Athlete']==Athlete])])\n",
        "data=pd.DataFrame(data,columns=['Athlete','Total Medal'])\n",
        "data=data.sort_values(by='Total Medal',ascending=False).head()\n",
        "\n",
        "data.plot(x='Athlete',y='Total Medal',kind='bar',figsize=(10,5))"
      ],
      "execution_count": 17,
      "outputs": [
        {
          "output_type": "execute_result",
          "data": {
            "text/plain": [
              "<matplotlib.axes._subplots.AxesSubplot at 0x7f29ba437dd0>"
            ]
          },
          "metadata": {},
          "execution_count": 17
        },
        {
          "output_type": "display_data",
          "data": {
            "image/png": "[encoded data removed]",
            "text/plain": [
              "<Figure size 720x360 with 1 Axes>"
            ]
          },
          "metadata": {
            "needs_background": "light"
          }
        }
      ]
    },
    {
      "cell_type": "markdown",
      "metadata": {
        "id": "cCn0nUhiWipV"
      },
      "source": [
        "#5. Which player has won most number Gold Medals of medals? (Top 5)"
      ]
    },
    {
      "cell_type": "code",
      "metadata": {
        "id": "38Kg9enWc22Q"
      },
      "source": [
        "#I don't know why this cell is not executing \n",
        "\n",
        "\n",
        "lst1=[]\n",
        "for Athlete in df['Athlete'].unique():\n",
        "  gold=0\n",
        "\n",
        "  for i in range(len(data)):\n",
        "    if(data[i][8]=='Medal'):\n",
        "      if('Medal'=='Gold'):\n",
        "        gold=gold+data[i][8]\n",
        "  lst1.append([Athlete,gold])\n",
        "\n",
        "  \n",
        "pd.DataFrame(lst1,columns=['Athlete','Medal']).sort_values(by='Medal',ascending=False).plot(x='Athlete',y='Medal',kind='bar',figsize=(10,5))"
      ],
      "execution_count": null,
      "outputs": []
    },
    {
      "cell_type": "markdown",
      "metadata": {
        "id": "uIYrpGA7eAqu"
      },
      "source": [
        "#6. In which year India won first Gold Medal in Summer Olympics?"
      ]
    },
    {
      "cell_type": "code",
      "metadata": {
        "id": "26Y_9HhRgiT6"
      },
      "source": [
        "#Sir, I don't know how to solve this part please help me sir"
      ],
      "execution_count": null,
      "outputs": []
    },
    {
      "cell_type": "code",
      "metadata": {
        "id": "6F5FOp4AhjLQ"
      },
      "source": [
        ""
      ],
      "execution_count": null,
      "outputs": []
    },
    {
      "cell_type": "markdown",
      "metadata": {
        "id": "DnAbrfXehzJ5"
      },
      "source": [
        "#7. Which event is most popular in terms on number of players? (Top 5)"
      ]
    },
    {
      "cell_type": "code",
      "metadata": {
        "colab": {
          "base_uri": "https://localhost:8080/",
          "height": 431
        },
        "id": "5ORfHVCic3M-",
        "outputId": "fbf1c13c-d47c-4bea-a9ae-0f119eed6939"
      },
      "source": [
        "data=[]\n",
        "for Event in df['Event'].unique():\n",
        "  data.append([Event,len(df[df['Event']==Event])])\n",
        "data=pd.DataFrame(data,columns=['Event','Number of player'])\n",
        "data=data.sort_values(by='Number of player',ascending=False).head()\n",
        "\n",
        "data.plot(x='Event',y='Number of player',kind='bar',figsize=(10,5))"
      ],
      "execution_count": 20,
      "outputs": [
        {
          "output_type": "execute_result",
          "data": {
            "text/plain": [
              "<matplotlib.axes._subplots.AxesSubplot at 0x7f29ba281390>"
            ]
          },
          "metadata": {},
          "execution_count": 20
        },
        {
          "output_type": "display_data",
          "data": {
            "image/png": "[encoded data removed]",
            "text/plain": [
              "<Figure size 720x360 with 1 Axes>"
            ]
          },
          "metadata": {
            "needs_background": "light"
          }
        }
      ]
    },
    {
      "cell_type": "markdown",
      "metadata": {
        "id": "oojTUA_Bi9vK"
      },
      "source": [
        "#8. Which sport is having most female Gold Medalists? (Top 5)\n",
        "\n"
      ]
    },
    {
      "cell_type": "code",
      "metadata": {
        "id": "vemLysClc3Rp"
      },
      "source": [
        "#Not able to get this question.Sir please help me\n",
        "lst2=[]\n",
        "for Sport in df['Sport'].unique():\n",
        "  Women=0\n",
        "\n",
        "  for i in range(len(data)):\n",
        "    if(data[i][6]=='Gender'):\n",
        "      if('Gender'=='women'):\n",
        "        \n",
        "        Women=Women+data[i][6]\n",
        "  lst2.append([Sport,Women])\n",
        "pd.DataFrame(lst1,columns=['Sport','Medal']).sort_values(by='Medal',ascending=False).plot(x='Sport',y='Medal',kind='bar',figsize=(10,5)"
      ],
      "execution_count": 116,
      "outputs": []
    }
  ]
}